{
 "cells": [
  {
   "cell_type": "markdown",
   "metadata": {},
   "source": [
    "# ALM 1 Ingest\n",
    "This notebook ingests the data into the `tutorial_alm1_ingest` database.\n",
    "\n",
    "The dataset is described here: https://crcns.org/data-sets/motor-cortex/alm-1/about-alm-1\n",
    "\n",
    "The data structure is described here: https://crcns.org/files/data/alm-1/crcns_alm-1_data_description.pdf\n",
    "\n",
    "The original paper is https://www.nature.com/nature/journal/v519/n7541/full/nature14178.html"
   ]
  },
  {
   "cell_type": "code",
   "execution_count": 1,
   "metadata": {
    "collapsed": true
   },
   "outputs": [],
   "source": [
    "import datajoint as dj\n",
    "import scipy.io as scio\n",
    "import os\n",
    "from IPython.core.debugger import set_trace"
   ]
  },
  {
   "cell_type": "code",
   "execution_count": 2,
   "metadata": {},
   "outputs": [],
   "source": [
    "dj.config['database.host'] = 'mesoscale-activity.datajoint.io'\n",
    "dj.config['database.user'] = 'dimitri'"
   ]
  },
  {
   "cell_type": "code",
   "execution_count": 3,
   "metadata": {},
   "outputs": [
    {
     "name": "stdout",
     "output_type": "stream",
     "text": [
      "Connecting dimitri@mesoscale-activity.datajoint.io:3306\n"
     ]
    }
   ],
   "source": [
    "schema = dj.schema('tutorial_alm1_ingest', locals())"
   ]
  },
  {
   "cell_type": "markdown",
   "metadata": {},
   "source": [
    "# Import Animal and Session data"
   ]
  },
  {
   "cell_type": "code",
   "execution_count": 4,
   "metadata": {
    "collapsed": true
   },
   "outputs": [],
   "source": [
    "import os\n",
    "import scipy.io as scio\n",
    "\n",
    "meta_data_path = 'data/ALM-1/meta_data'\n",
    "\n",
    "@schema\n",
    "class SessionDirectory(dj.Lookup):\n",
    "\n",
    "    definition = \"\"\"\n",
    "    session_file : varchar(255)    \n",
    "    \"\"\"\n",
    "    \n",
    "    contents = [[os.path.join(meta_data_path, f)]\n",
    "                for f in os.listdir(meta_data_path) if f.endswith('.mat')]\n"
   ]
  },
  {
   "cell_type": "code",
   "execution_count": 5,
   "metadata": {
    "collapsed": true
   },
   "outputs": [],
   "source": [
    "@schema\n",
    "class Animal(dj.Imported):\n",
    "    definition = \"\"\"\n",
    "    animal :  int  # animal id \n",
    "    ---\n",
    "    species  : varchar(255)\n",
    "    date_of_birth : date\n",
    "    \"\"\"\n",
    "    \n",
    "    class GeneModification(dj.Part):\n",
    "        definition = \"\"\"\n",
    "        -> Animal\n",
    "        gene_modification : varchar(30)\n",
    "        \"\"\"\n",
    "        \n",
    "    class Strain(dj.Part):\n",
    "        definition = \"\"\"\n",
    "        -> Animal\n",
    "        strain  : varchar(30)\n",
    "        \"\"\"\n",
    "\n",
    "\n",
    "@schema\n",
    "class Session(dj.Imported):\n",
    "    definition = \"\"\"\n",
    "    -> Animal\n",
    "    session : tinyint \n",
    "    ---\n",
    "    session_date   :  date\n",
    "    session_suffix :  char(1) \n",
    "    -> SessionDirectory\n",
    "    UNIQUE INDEX(animal, session_date, session_suffix)\n",
    "    \"\"\"\n",
    "\n",
    "    @property\n",
    "    def key_source(self):\n",
    "        return SessionDirectory()\n",
    "    \n",
    "    def _make_tuples(self, key):        \n",
    "        r = scio.loadmat(key['session_file'], \n",
    "                         struct_as_record=False, squeeze_me=True)['meta_data']\n",
    "        # extract animalID\n",
    "        if not isinstance(r.animalID, str):\n",
    "            r.animalID = r.animalID[0]   # handles errors in data\n",
    "        animal = int(r.animalID[3:])  \n",
    "        key['animal'] = animal\n",
    "        \n",
    "        # insert animal if first time\n",
    "        if not (Animal() & key):\n",
    "            tup = dict(\n",
    "                animal=animal,\n",
    "                species=r.species, \n",
    "                date_of_birth = \"{year}-{month}-{day}\".format(\n",
    "                    year=r.dateOfBirth[0:4], \n",
    "                    month=r.dateOfBirth[4:6], \n",
    "                    day=r.dateOfBirth[6:8]))\n",
    "            Animal().insert1(tup)\n",
    "            if isinstance(r.animalGeneModification, str):\n",
    "                r.animalGeneModification = [r.animalGeneModification]\n",
    "            Animal.GeneModification().insert(\n",
    "                dict(animal=animal, gene_modification=m) for m in r.animalGeneModification)\n",
    "            if isinstance(r.animalStrain, str):\n",
    "                r.animalStrain = [r.animalStrain]\n",
    "            Animal.Strain().insert(\n",
    "                dict(animal=animal, strain=m) for m in r.animalStrain)\n",
    "\n",
    "        tup = key\n",
    "        tup['session'] = len(Session() & dict(animal=animal))+1  \n",
    "        tup['session_date'] = \"{year}-{month}-{day}\".format(\n",
    "                year=r.dateOfExperiment[0:4], \n",
    "                month=r.dateOfExperiment[4:6], \n",
    "                day=r.dateOfExperiment[6:8])\n",
    "        tup['session_suffix'] = os.path.basename(key['session_file']).split('_')[3][8]\n",
    "        self.insert1(tup)        "
   ]
  },
  {
   "cell_type": "code",
   "execution_count": 6,
   "metadata": {
    "collapsed": true
   },
   "outputs": [],
   "source": [
    "Session().populate()"
   ]
  },
  {
   "cell_type": "code",
   "execution_count": 7,
   "metadata": {},
   "outputs": [
    {
     "data": {
      "text/html": [
       "\n",
       "        \n",
       "        <style type=\"text/css\">\n",
       "            .Relation{\n",
       "                border-collapse:collapse;\n",
       "            }\n",
       "            .Relation th{\n",
       "                background: #A0A0A0; color: #ffffff; padding:4px; border:#f0e0e0 1px solid;\n",
       "                font-weight: normal; font-family: monospace; font-size: 75%;\n",
       "            }\n",
       "            .Relation td{\n",
       "                padding:4px; border:#f0e0e0 1px solid; font-size:75%;\n",
       "            }\n",
       "            .Relation tr:nth-child(odd){\n",
       "                background: #ffffff;\n",
       "            }\n",
       "            .Relation tr:nth-child(even){\n",
       "                background: #f3f1ff;\n",
       "            }\n",
       "            /* Tooltip container */\n",
       "            .djtooltip {\n",
       "            }\n",
       "\n",
       "            /* Tooltip text */\n",
       "            .djtooltip .djtooltiptext {\n",
       "                visibility: hidden;\n",
       "                width: 120px;\n",
       "                background-color: black;\n",
       "                color: #fff;\n",
       "                text-align: center;\n",
       "                padding: 5px 0;\n",
       "                border-radius: 6px;\n",
       "\n",
       "                /* Position the tooltip text - see examples below! */\n",
       "                position: absolute;\n",
       "                z-index: 1;\n",
       "            }\n",
       "\n",
       "\n",
       "            #primary {\n",
       "                font-weight: bold;\n",
       "                color: black;\n",
       "            }\n",
       "\n",
       "            #nonprimary {\n",
       "                font-weight: normal;\n",
       "                color: white;\n",
       "            }\n",
       "\n",
       "            /* Show the tooltip text when you mouse over the tooltip container */\n",
       "            .djtooltip:hover .djtooltiptext {\n",
       "                visibility: visible;\n",
       "            }\n",
       "        </style>\n",
       "        \n",
       "        <b></b>\n",
       "            <div style=\"max-height:1000px;max-width:1500px;overflow:auto;\">\n",
       "            <table border=\"1\" class=\"Relation\">\n",
       "                <thead> <tr style=\"text-align: right;\"> <th> <div class=\"djtooltip\">\n",
       "                                <p id=\"primary\">animal</p>\n",
       "                                <span class=\"djtooltiptext\">animal id</span>\n",
       "                            </div></th><th><div class=\"djtooltip\">\n",
       "                                <p id=\"primary\">session</p>\n",
       "                                <span class=\"djtooltiptext\"></span>\n",
       "                            </div></th><th><div class=\"djtooltip\">\n",
       "                                <p id=\"nonprimary\">session_date</p>\n",
       "                                <span class=\"djtooltiptext\"></span>\n",
       "                            </div></th><th><div class=\"djtooltip\">\n",
       "                                <p id=\"nonprimary\">session_suffix</p>\n",
       "                                <span class=\"djtooltiptext\"></span>\n",
       "                            </div></th><th><div class=\"djtooltip\">\n",
       "                                <p id=\"nonprimary\">session_file</p>\n",
       "                                <span class=\"djtooltiptext\"></span>\n",
       "                            </div> </th> </tr> </thead>\n",
       "                <tbody> <tr> <td>210861</td>\n",
       "<td>1</td>\n",
       "<td>2013-07-01</td>\n",
       "<td>.</td>\n",
       "<td>data/ALM-1/meta_data/meta_data_ANM210861_20130701.mat</td></tr><tr><td>210861</td>\n",
       "<td>2</td>\n",
       "<td>2013-07-02</td>\n",
       "<td>.</td>\n",
       "<td>data/ALM-1/meta_data/meta_data_ANM210861_20130702.mat</td></tr><tr><td>210861</td>\n",
       "<td>3</td>\n",
       "<td>2013-07-03</td>\n",
       "<td>.</td>\n",
       "<td>data/ALM-1/meta_data/meta_data_ANM210861_20130703.mat</td></tr><tr><td>210862</td>\n",
       "<td>1</td>\n",
       "<td>2013-06-26</td>\n",
       "<td>.</td>\n",
       "<td>data/ALM-1/meta_data/meta_data_ANM210862_20130626.mat</td></tr><tr><td>210862</td>\n",
       "<td>2</td>\n",
       "<td>2013-06-27</td>\n",
       "<td>.</td>\n",
       "<td>data/ALM-1/meta_data/meta_data_ANM210862_20130627.mat</td></tr><tr><td>210862</td>\n",
       "<td>3</td>\n",
       "<td>2013-06-28</td>\n",
       "<td>.</td>\n",
       "<td>data/ALM-1/meta_data/meta_data_ANM210862_20130628.mat</td></tr><tr><td>210863</td>\n",
       "<td>1</td>\n",
       "<td>2013-06-26</td>\n",
       "<td>.</td>\n",
       "<td>data/ALM-1/meta_data/meta_data_ANM210863_20130626.mat</td> </tr> </tbody>\n",
       "            </table>\n",
       "            <p>...</p>\n",
       "            <p>99 tuples</p></div>\n",
       "            "
      ],
      "text/plain": [
       "*animal    *session    session_date   session_suffix session_file  \n",
       "+--------+ +---------+ +------------+ +------------+ +------------+\n",
       "210861     1           2013-07-01     .              data/ALM-1/met\n",
       "210861     2           2013-07-02     .              data/ALM-1/met\n",
       "210861     3           2013-07-03     .              data/ALM-1/met\n",
       "210862     1           2013-06-26     .              data/ALM-1/met\n",
       "210862     2           2013-06-27     .              data/ALM-1/met\n",
       "210862     3           2013-06-28     .              data/ALM-1/met\n",
       "210863     1           2013-06-26     .              data/ALM-1/met\n",
       "   ...\n",
       " (99 tuples)"
      ]
     },
     "execution_count": 7,
     "metadata": {},
     "output_type": "execute_result"
    }
   ],
   "source": [
    "Session()"
   ]
  },
  {
   "cell_type": "code",
   "execution_count": 8,
   "metadata": {
    "scrolled": false
   },
   "outputs": [],
   "source": [
    "@schema\n",
    "class PhotoStim(dj.Imported):\n",
    "    definition = \"\"\"\n",
    "    -> Session\n",
    "    ---\n",
    "    wavelength : decimal(4,1)\n",
    "    \"\"\"\n",
    "    \n",
    "    class Location(dj.Part):\n",
    "        definition = \"\"\"\n",
    "        -> PhotoStim\n",
    "        photostim_loc  : tinyint \n",
    "        ---\n",
    "        identification_method : varchar(30)\n",
    "        stimulation_method : varchar(30)\n",
    "        area  : varchar(30)\n",
    "        photostim_x   :  decimal(5,3)    # mm\n",
    "        photostim_y   :  decimal(5,3)    # mm \n",
    "        photostim_z   :  decimal(5,3)    # mm\n",
    "        \"\"\"\n",
    "        \n",
    "    def _make_tuples(self, key):\n",
    "        file = (Session() & key).fetch1('session_file')\n",
    "        q = scio.loadmat(file, struct_as_record=False, squeeze_me=True)['meta_data'].photostim\n",
    "        self.insert1(dict(key, wavelength=q.photostimWavelength))\n",
    "        self.Location().insert(\n",
    "            dict(key, \n",
    "                 photostim_loc=i, \n",
    "                 area=tup[0], \n",
    "                 identification_method=tup[1],\n",
    "                 stimulation_method=tup[2],\n",
    "                 photostim_x=tup[3][0],\n",
    "                 photostim_y=tup[3][1],\n",
    "                 photostim_z=tup[3][2])\n",
    "            for i, tup in enumerate(\n",
    "                zip(q.photostimLocation, \n",
    "                    q.identificationMethod, \n",
    "                    q.stimulationMethod, \n",
    "                    q.photostimCoordinates)))\n",
    "            "
   ]
  },
  {
   "cell_type": "code",
   "execution_count": 13,
   "metadata": {},
   "outputs": [
    {
     "data": {
      "text/plain": [
       "[]"
      ]
     },
     "execution_count": 13,
     "metadata": {},
     "output_type": "execute_result"
    }
   ],
   "source": [
    "PhotoStim().populate(suppress_errors=True, reserve_jobs=True)"
   ]
  },
  {
   "cell_type": "code",
   "execution_count": 17,
   "metadata": {},
   "outputs": [
    {
     "data": {
      "text/html": [
       "\n",
       "        \n",
       "        <style type=\"text/css\">\n",
       "            .Relation{\n",
       "                border-collapse:collapse;\n",
       "            }\n",
       "            .Relation th{\n",
       "                background: #A0A0A0; color: #ffffff; padding:4px; border:#f0e0e0 1px solid;\n",
       "                font-weight: normal; font-family: monospace; font-size: 75%;\n",
       "            }\n",
       "            .Relation td{\n",
       "                padding:4px; border:#f0e0e0 1px solid; font-size:75%;\n",
       "            }\n",
       "            .Relation tr:nth-child(odd){\n",
       "                background: #ffffff;\n",
       "            }\n",
       "            .Relation tr:nth-child(even){\n",
       "                background: #f3f1ff;\n",
       "            }\n",
       "            /* Tooltip container */\n",
       "            .djtooltip {\n",
       "            }\n",
       "\n",
       "            /* Tooltip text */\n",
       "            .djtooltip .djtooltiptext {\n",
       "                visibility: hidden;\n",
       "                width: 120px;\n",
       "                background-color: black;\n",
       "                color: #fff;\n",
       "                text-align: center;\n",
       "                padding: 5px 0;\n",
       "                border-radius: 6px;\n",
       "\n",
       "                /* Position the tooltip text - see examples below! */\n",
       "                position: absolute;\n",
       "                z-index: 1;\n",
       "            }\n",
       "\n",
       "\n",
       "            #primary {\n",
       "                font-weight: bold;\n",
       "                color: black;\n",
       "            }\n",
       "\n",
       "            #nonprimary {\n",
       "                font-weight: normal;\n",
       "                color: white;\n",
       "            }\n",
       "\n",
       "            /* Show the tooltip text when you mouse over the tooltip container */\n",
       "            .djtooltip:hover .djtooltiptext {\n",
       "                visibility: visible;\n",
       "            }\n",
       "        </style>\n",
       "        \n",
       "        \n",
       "            <div style=\"max-height:1000px;max-width:1500px;overflow:auto;\">\n",
       "            <table border=\"1\" class=\"Relation\">\n",
       "                <thead> <tr style=\"text-align: right;\"> <th> <div class=\"djtooltip\">\n",
       "                                <p id=\"primary\">stimulation_method</p>\n",
       "                                <span class=\"djtooltiptext\"></span>\n",
       "                            </div></th><th><div class=\"djtooltip\">\n",
       "                                <p id=\"primary\">identification_method</p>\n",
       "                                <span class=\"djtooltiptext\"></span>\n",
       "                            </div> </th> </tr> </thead>\n",
       "                <tbody> <tr> <td>optical fiber</td>\n",
       "<td>histology</td></tr><tr><td>craniotomy</td>\n",
       "<td>stereotaxic coordinate</td></tr><tr><td>clear skull</td>\n",
       "<td>stereotaxic coordinate</td> </tr> </tbody>\n",
       "            </table>\n",
       "            \n",
       "            <p>3 tuples</p></div>\n",
       "            "
      ],
      "text/plain": [
       "*stimulation_m *identificatio\n",
       "+------------+ +------------+\n",
       "optical fiber  histology     \n",
       "craniotomy     stereotaxic co\n",
       "clear skull    stereotaxic co\n",
       " (3 tuples)"
      ]
     },
     "execution_count": 17,
     "metadata": {},
     "output_type": "execute_result"
    }
   ],
   "source": [
    "dj.U('stimulation_method', 'identification_method') & PhotoStim().Location()"
   ]
  },
  {
   "cell_type": "code",
   "execution_count": 18,
   "metadata": {
    "collapsed": true,
    "scrolled": true
   },
   "outputs": [],
   "source": [
    "key = PhotoStim().key_source.fetch(dj.key)[3]\n",
    "file = (Session() & key).fetch1('session_file')\n",
    "r = scio.loadmat(file, struct_as_record=False, squeeze_me=True)['meta_data']"
   ]
  },
  {
   "cell_type": "code",
   "execution_count": 19,
   "metadata": {},
   "outputs": [
    {
     "data": {
      "text/plain": [
       "array(['detection', 'discrimination', 'lick Left lick Right', 'delay',\n",
       "       'somatosensory', 'motor', 'response', 'reward'], dtype=object)"
      ]
     },
     "execution_count": 19,
     "metadata": {},
     "output_type": "execute_result"
    }
   ],
   "source": [
    "r.behavior.task_keyword"
   ]
  },
  {
   "cell_type": "code",
   "execution_count": 20,
   "metadata": {
    "collapsed": true
   },
   "outputs": [],
   "source": [
    "@schema\n",
    "class Extracellular(dj.Imported):\n",
    "    definition = \"\"\"\n",
    "    -> Session\n",
    "    ---\n",
    "    probe_source  : varchar(60)  \n",
    "    probe_type    : varchar(60)\n",
    "    ad_unit       : varchar(24)\n",
    "    penetration_n : tinyint\n",
    "    recording_coords_x : float\n",
    "    recording_coords_y : float\n",
    "    recording_coords_z : float \n",
    "    recording_location : varchar(8)\n",
    "    recording_marker   : varchar(24)\n",
    "    recording_type     : varchar(24)\n",
    "    spike_sorting      : varchar(16)\n",
    "    \"\"\"\n",
    "    \n",
    "    class SiteLocation(dj.Part):\n",
    "        definition = \"\"\"\n",
    "        -> Extracellular\n",
    "        site  : smallint   # site number within recording\n",
    "        ---\n",
    "        site_x  : decimal(6,3)\n",
    "        site_y  : decimal(6,3)\n",
    "        site_z  : decimal(6,3)\n",
    "        \"\"\"\n",
    "    \n",
    "    def _make_tuples(self, key):\n",
    "        file = (Session() & key).fetch1('session_file')\n",
    "        e = scio.loadmat(file, struct_as_record=False, squeeze_me=True)['meta_data'].extracellular\n",
    "        self.insert1(dict(key, \n",
    "                          probe_source=e.probeSource, \n",
    "                          probe_type=e.probeType, \n",
    "                          ad_unit=e.ADunit,\n",
    "                          penetration_n=e.penetrationN,\n",
    "                          recording_coords_x=e.recordingCoordinates[0],\n",
    "                          recording_coords_y=e.recordingCoordinates[1],\n",
    "                          recording_coords_z=e.recordingCoordinates[2],\n",
    "                          recording_location=e.recordingLocation,\n",
    "                          recording_marker=e.recordingMarker,\n",
    "                          recording_type=e.recordingType,\n",
    "                          spike_sorting=e.spikeSorting\n",
    "                         ))\n",
    "        self.SiteLocation().insert(dict(key, \n",
    "                                        site=i,\n",
    "                                        site_x=q[0], \n",
    "                                        site_y=q[1], \n",
    "                                        site_z=q[2]) for i, q in enumerate(e.siteLocations))"
   ]
  },
  {
   "cell_type": "code",
   "execution_count": 21,
   "metadata": {},
   "outputs": [
    {
     "data": {
      "text/html": [
       "\n",
       "        \n",
       "        <style type=\"text/css\">\n",
       "            .Relation{\n",
       "                border-collapse:collapse;\n",
       "            }\n",
       "            .Relation th{\n",
       "                background: #A0A0A0; color: #ffffff; padding:4px; border:#f0e0e0 1px solid;\n",
       "                font-weight: normal; font-family: monospace; font-size: 75%;\n",
       "            }\n",
       "            .Relation td{\n",
       "                padding:4px; border:#f0e0e0 1px solid; font-size:75%;\n",
       "            }\n",
       "            .Relation tr:nth-child(odd){\n",
       "                background: #ffffff;\n",
       "            }\n",
       "            .Relation tr:nth-child(even){\n",
       "                background: #f3f1ff;\n",
       "            }\n",
       "            /* Tooltip container */\n",
       "            .djtooltip {\n",
       "            }\n",
       "\n",
       "            /* Tooltip text */\n",
       "            .djtooltip .djtooltiptext {\n",
       "                visibility: hidden;\n",
       "                width: 120px;\n",
       "                background-color: black;\n",
       "                color: #fff;\n",
       "                text-align: center;\n",
       "                padding: 5px 0;\n",
       "                border-radius: 6px;\n",
       "\n",
       "                /* Position the tooltip text - see examples below! */\n",
       "                position: absolute;\n",
       "                z-index: 1;\n",
       "            }\n",
       "\n",
       "\n",
       "            #primary {\n",
       "                font-weight: bold;\n",
       "                color: black;\n",
       "            }\n",
       "\n",
       "            #nonprimary {\n",
       "                font-weight: normal;\n",
       "                color: white;\n",
       "            }\n",
       "\n",
       "            /* Show the tooltip text when you mouse over the tooltip container */\n",
       "            .djtooltip:hover .djtooltiptext {\n",
       "                visibility: visible;\n",
       "            }\n",
       "        </style>\n",
       "        \n",
       "        \n",
       "            <div style=\"max-height:1000px;max-width:1500px;overflow:auto;\">\n",
       "            <table border=\"1\" class=\"Relation\">\n",
       "                <thead> <tr style=\"text-align: right;\"> <th> <div class=\"djtooltip\">\n",
       "                                <p id=\"primary\">animal</p>\n",
       "                                <span class=\"djtooltiptext\">animal id</span>\n",
       "                            </div></th><th><div class=\"djtooltip\">\n",
       "                                <p id=\"primary\">session</p>\n",
       "                                <span class=\"djtooltiptext\"></span>\n",
       "                            </div></th><th><div class=\"djtooltip\">\n",
       "                                <p id=\"nonprimary\">penetration_n</p>\n",
       "                                <span class=\"djtooltiptext\"></span>\n",
       "                            </div></th><th><div class=\"djtooltip\">\n",
       "                                <p id=\"nonprimary\">n</p>\n",
       "                                <span class=\"djtooltiptext\">calculated attribute</span>\n",
       "                            </div> </th> </tr> </thead>\n",
       "                <tbody> <tr> <td>210861</td>\n",
       "<td>1</td>\n",
       "<td>1</td>\n",
       "<td>32</td></tr><tr><td>210861</td>\n",
       "<td>2</td>\n",
       "<td>2</td>\n",
       "<td>32</td></tr><tr><td>210861</td>\n",
       "<td>3</td>\n",
       "<td>3</td>\n",
       "<td>32</td></tr><tr><td>210862</td>\n",
       "<td>1</td>\n",
       "<td>1</td>\n",
       "<td>32</td></tr><tr><td>210862</td>\n",
       "<td>2</td>\n",
       "<td>2</td>\n",
       "<td>32</td></tr><tr><td>210862</td>\n",
       "<td>3</td>\n",
       "<td>3</td>\n",
       "<td>32</td></tr><tr><td>210863</td>\n",
       "<td>1</td>\n",
       "<td>1</td>\n",
       "<td>32</td> </tr> </tbody>\n",
       "            </table>\n",
       "            <p>...</p>\n",
       "            <p>99 tuples</p></div>\n",
       "            "
      ],
      "text/plain": [
       "*animal    *session    penetration_n  n     \n",
       "+--------+ +---------+ +------------+ +----+\n",
       "210861     1           1              32    \n",
       "210861     2           2              32    \n",
       "210861     3           3              32    \n",
       "210862     1           1              32    \n",
       "210862     2           2              32    \n",
       "210862     3           3              32    \n",
       "210863     1           1              32    \n",
       "   ...\n",
       " (99 tuples)"
      ]
     },
     "execution_count": 21,
     "metadata": {},
     "output_type": "execute_result"
    }
   ],
   "source": [
    "Extracellular().aggr(Extracellular.SiteLocation(), 'penetration_n', n='count(*)')"
   ]
  },
  {
   "cell_type": "code",
   "execution_count": 22,
   "metadata": {
    "collapsed": true
   },
   "outputs": [],
   "source": [
    "@schema\n",
    "class ExperimentType(dj.Imported):\n",
    "    definition = \"\"\"\n",
    "    -> Session\n",
    "    experiment_type : varchar(16)\n",
    "    \"\"\"\n",
    "    def _make_tuples(self, key):\n",
    "        file = (Session() & key).fetch1('session_file')\n",
    "        r = scio.loadmat(file, struct_as_record=False, squeeze_me=True)['meta_data']\n",
    "        self.insert(dict(key, experiment_type=q) for q in r.experimentType)\n"
   ]
  },
  {
   "cell_type": "code",
   "execution_count": 23,
   "metadata": {
    "collapsed": true
   },
   "outputs": [],
   "source": [
    "ExperimentType().populate()"
   ]
  },
  {
   "cell_type": "code",
   "execution_count": 24,
   "metadata": {
    "collapsed": true
   },
   "outputs": [],
   "source": [
    "data_structure_path = \"data/ALM-1/data_structure\"\n",
    "\n",
    "@schema\n",
    "class Recording(dj.Computed):\n",
    "    definition=\"\"\"\n",
    "    -> Session()\n",
    "    ---\n",
    "    recording_file : varchar(255)\n",
    "    \"\"\"\n",
    "    \n",
    "    def _make_tuples(self, key):\n",
    "        a = (Session() & key).fetch1()\n",
    "        if a['session_suffix']=='.':\n",
    "            a['session_suffix']=''\n",
    "        f = os.path.join(\n",
    "            data_structure_path, \n",
    "            'data_structure_ANM{animal:06d}_{short_date}{session_suffix}.mat').format(\n",
    "            **a, short_date=''.join(str(a['session_date']).split('-')))\n",
    "        assert os.path.isfile(f) \n",
    "        self.insert1(dict(key, recording_file=f))"
   ]
  },
  {
   "cell_type": "code",
   "execution_count": 25,
   "metadata": {
    "collapsed": true,
    "scrolled": false
   },
   "outputs": [],
   "source": [
    "Recording().populate()"
   ]
  },
  {
   "cell_type": "code",
   "execution_count": 26,
   "metadata": {},
   "outputs": [
    {
     "data": {
      "text/html": [
       "\n",
       "        \n",
       "        <style type=\"text/css\">\n",
       "            .Relation{\n",
       "                border-collapse:collapse;\n",
       "            }\n",
       "            .Relation th{\n",
       "                background: #A0A0A0; color: #ffffff; padding:4px; border:#f0e0e0 1px solid;\n",
       "                font-weight: normal; font-family: monospace; font-size: 75%;\n",
       "            }\n",
       "            .Relation td{\n",
       "                padding:4px; border:#f0e0e0 1px solid; font-size:75%;\n",
       "            }\n",
       "            .Relation tr:nth-child(odd){\n",
       "                background: #ffffff;\n",
       "            }\n",
       "            .Relation tr:nth-child(even){\n",
       "                background: #f3f1ff;\n",
       "            }\n",
       "            /* Tooltip container */\n",
       "            .djtooltip {\n",
       "            }\n",
       "\n",
       "            /* Tooltip text */\n",
       "            .djtooltip .djtooltiptext {\n",
       "                visibility: hidden;\n",
       "                width: 120px;\n",
       "                background-color: black;\n",
       "                color: #fff;\n",
       "                text-align: center;\n",
       "                padding: 5px 0;\n",
       "                border-radius: 6px;\n",
       "\n",
       "                /* Position the tooltip text - see examples below! */\n",
       "                position: absolute;\n",
       "                z-index: 1;\n",
       "            }\n",
       "\n",
       "\n",
       "            #primary {\n",
       "                font-weight: bold;\n",
       "                color: black;\n",
       "            }\n",
       "\n",
       "            #nonprimary {\n",
       "                font-weight: normal;\n",
       "                color: white;\n",
       "            }\n",
       "\n",
       "            /* Show the tooltip text when you mouse over the tooltip container */\n",
       "            .djtooltip:hover .djtooltiptext {\n",
       "                visibility: visible;\n",
       "            }\n",
       "        </style>\n",
       "        \n",
       "        <b></b>\n",
       "            <div style=\"max-height:1000px;max-width:1500px;overflow:auto;\">\n",
       "            <table border=\"1\" class=\"Relation\">\n",
       "                <thead> <tr style=\"text-align: right;\"> <th> <div class=\"djtooltip\">\n",
       "                                <p id=\"primary\">animal</p>\n",
       "                                <span class=\"djtooltiptext\">animal id</span>\n",
       "                            </div></th><th><div class=\"djtooltip\">\n",
       "                                <p id=\"primary\">session</p>\n",
       "                                <span class=\"djtooltiptext\"></span>\n",
       "                            </div></th><th><div class=\"djtooltip\">\n",
       "                                <p id=\"nonprimary\">recording_file</p>\n",
       "                                <span class=\"djtooltiptext\"></span>\n",
       "                            </div> </th> </tr> </thead>\n",
       "                <tbody> <tr> <td>210861</td>\n",
       "<td>1</td>\n",
       "<td>data/ALM-1/data_structure/data_structure_ANM210861_20130701.mat</td></tr><tr><td>210861</td>\n",
       "<td>2</td>\n",
       "<td>data/ALM-1/data_structure/data_structure_ANM210861_20130702.mat</td></tr><tr><td>210861</td>\n",
       "<td>3</td>\n",
       "<td>data/ALM-1/data_structure/data_structure_ANM210861_20130703.mat</td></tr><tr><td>210862</td>\n",
       "<td>1</td>\n",
       "<td>data/ALM-1/data_structure/data_structure_ANM210862_20130626.mat</td></tr><tr><td>210862</td>\n",
       "<td>2</td>\n",
       "<td>data/ALM-1/data_structure/data_structure_ANM210862_20130627.mat</td></tr><tr><td>210862</td>\n",
       "<td>3</td>\n",
       "<td>data/ALM-1/data_structure/data_structure_ANM210862_20130628.mat</td></tr><tr><td>210863</td>\n",
       "<td>1</td>\n",
       "<td>data/ALM-1/data_structure/data_structure_ANM210863_20130626.mat</td> </tr> </tbody>\n",
       "            </table>\n",
       "            <p>...</p>\n",
       "            <p>99 tuples</p></div>\n",
       "            "
      ],
      "text/plain": [
       "*animal    *session    recording_file\n",
       "+--------+ +---------+ +------------+\n",
       "210861     1           data/ALM-1/dat\n",
       "210861     2           data/ALM-1/dat\n",
       "210861     3           data/ALM-1/dat\n",
       "210862     1           data/ALM-1/dat\n",
       "210862     2           data/ALM-1/dat\n",
       "210862     3           data/ALM-1/dat\n",
       "210863     1           data/ALM-1/dat\n",
       "   ...\n",
       " (99 tuples)"
      ]
     },
     "execution_count": 26,
     "metadata": {},
     "output_type": "execute_result"
    }
   ],
   "source": [
    "Recording()"
   ]
  },
  {
   "cell_type": "markdown",
   "metadata": {},
   "source": [
    "# Import units, trials, and spikes"
   ]
  },
  {
   "cell_type": "code",
   "execution_count": 27,
   "metadata": {
    "collapsed": true
   },
   "outputs": [],
   "source": [
    "@schema\n",
    "class Unit(dj.Imported):\n",
    "    definition = \"\"\"\n",
    "    -> Recording\n",
    "    unit   :  smallint   # unit number on the array\n",
    "    ---\n",
    "    cell_type : varchar(30)\n",
    "    \"\"\"\n",
    "    \n",
    "    def _make_tuples(self, key):\n",
    "        f = (Recording() & key).fetch1('recording_file')\n",
    "        r = scio.loadmat(f, struct_as_record=False, squeeze_me=True)['obj'].eventSeriesHash\n",
    "        for name, value in zip(r.keyNames, r.value):\n",
    "            tup = key\n",
    "            tup['unit'] = int(name[4:])\n",
    "            tup['cell_type'] = value.cellType if isinstance(value.cellType, str) else ''\n",
    "            self.insert1(tup)\n",
    "    \n",
    "    "
   ]
  },
  {
   "cell_type": "code",
   "execution_count": 28,
   "metadata": {
    "collapsed": true
   },
   "outputs": [],
   "source": [
    "Unit().populate()"
   ]
  },
  {
   "cell_type": "code",
   "execution_count": 29,
   "metadata": {},
   "outputs": [
    {
     "data": {
      "text/html": [
       "\n",
       "        \n",
       "        <style type=\"text/css\">\n",
       "            .Relation{\n",
       "                border-collapse:collapse;\n",
       "            }\n",
       "            .Relation th{\n",
       "                background: #A0A0A0; color: #ffffff; padding:4px; border:#f0e0e0 1px solid;\n",
       "                font-weight: normal; font-family: monospace; font-size: 75%;\n",
       "            }\n",
       "            .Relation td{\n",
       "                padding:4px; border:#f0e0e0 1px solid; font-size:75%;\n",
       "            }\n",
       "            .Relation tr:nth-child(odd){\n",
       "                background: #ffffff;\n",
       "            }\n",
       "            .Relation tr:nth-child(even){\n",
       "                background: #f3f1ff;\n",
       "            }\n",
       "            /* Tooltip container */\n",
       "            .djtooltip {\n",
       "            }\n",
       "\n",
       "            /* Tooltip text */\n",
       "            .djtooltip .djtooltiptext {\n",
       "                visibility: hidden;\n",
       "                width: 120px;\n",
       "                background-color: black;\n",
       "                color: #fff;\n",
       "                text-align: center;\n",
       "                padding: 5px 0;\n",
       "                border-radius: 6px;\n",
       "\n",
       "                /* Position the tooltip text - see examples below! */\n",
       "                position: absolute;\n",
       "                z-index: 1;\n",
       "            }\n",
       "\n",
       "\n",
       "            #primary {\n",
       "                font-weight: bold;\n",
       "                color: black;\n",
       "            }\n",
       "\n",
       "            #nonprimary {\n",
       "                font-weight: normal;\n",
       "                color: white;\n",
       "            }\n",
       "\n",
       "            /* Show the tooltip text when you mouse over the tooltip container */\n",
       "            .djtooltip:hover .djtooltiptext {\n",
       "                visibility: visible;\n",
       "            }\n",
       "        </style>\n",
       "        \n",
       "        <b></b>\n",
       "            <div style=\"max-height:1000px;max-width:1500px;overflow:auto;\">\n",
       "            <table border=\"1\" class=\"Relation\">\n",
       "                <thead> <tr style=\"text-align: right;\"> <th> <div class=\"djtooltip\">\n",
       "                                <p id=\"primary\">animal</p>\n",
       "                                <span class=\"djtooltiptext\">animal id</span>\n",
       "                            </div></th><th><div class=\"djtooltip\">\n",
       "                                <p id=\"primary\">session</p>\n",
       "                                <span class=\"djtooltiptext\"></span>\n",
       "                            </div></th><th><div class=\"djtooltip\">\n",
       "                                <p id=\"primary\">unit</p>\n",
       "                                <span class=\"djtooltiptext\">unit number on the array</span>\n",
       "                            </div></th><th><div class=\"djtooltip\">\n",
       "                                <p id=\"nonprimary\">cell_type</p>\n",
       "                                <span class=\"djtooltiptext\"></span>\n",
       "                            </div> </th> </tr> </thead>\n",
       "                <tbody> <tr> <td>210861</td>\n",
       "<td>1</td>\n",
       "<td>1</td>\n",
       "<td>FS</td></tr><tr><td>210861</td>\n",
       "<td>1</td>\n",
       "<td>2</td>\n",
       "<td>pyramidal</td></tr><tr><td>210861</td>\n",
       "<td>1</td>\n",
       "<td>3</td>\n",
       "<td>pyramidal</td></tr><tr><td>210861</td>\n",
       "<td>1</td>\n",
       "<td>5</td>\n",
       "<td>pyramidal</td></tr><tr><td>210861</td>\n",
       "<td>1</td>\n",
       "<td>6</td>\n",
       "<td>pyramidal</td></tr><tr><td>210861</td>\n",
       "<td>1</td>\n",
       "<td>7</td>\n",
       "<td>pyramidal</td></tr><tr><td>210861</td>\n",
       "<td>1</td>\n",
       "<td>8</td>\n",
       "<td>pyramidal</td> </tr> </tbody>\n",
       "            </table>\n",
       "            <p>...</p>\n",
       "            <p>1408 tuples</p></div>\n",
       "            "
      ],
      "text/plain": [
       "*animal    *session    *unit    cell_type    \n",
       "+--------+ +---------+ +------+ +-----------+\n",
       "210861     1           1        FS           \n",
       "210861     1           2        pyramidal    \n",
       "210861     1           3        pyramidal    \n",
       "210861     1           5        pyramidal    \n",
       "210861     1           6        pyramidal    \n",
       "210861     1           7        pyramidal    \n",
       "210861     1           8        pyramidal    \n",
       "   ...\n",
       " (1408 tuples)"
      ]
     },
     "execution_count": 29,
     "metadata": {},
     "output_type": "execute_result"
    }
   ],
   "source": [
    "Unit()"
   ]
  },
  {
   "cell_type": "code",
   "execution_count": 30,
   "metadata": {
    "collapsed": true
   },
   "outputs": [],
   "source": [
    "@schema\n",
    "class Trial(dj.Imported):\n",
    "    definition = \"\"\"\n",
    "    -> Recording\n",
    "    trial  :  int \n",
    "    ---\n",
    "    start_time : double\n",
    "    pole_in_time =null:  double\n",
    "    pole_out_time =null : double\n",
    "    cue_time =null : double\n",
    "    good_trial  : tinyint   # change to bool\n",
    "    photostim_type =null :  tinyint\n",
    "    \"\"\"\n",
    "    \n",
    "    class Type(dj.Part):\n",
    "        definition = \"\"\"\n",
    "        -> Trial\n",
    "        trial_type : varchar(12)\n",
    "        \"\"\"\n",
    "        \n",
    "    def _make_tuples(self, key):\n",
    "        print(key)\n",
    "        f = (Recording() & key).fetch1('recording_file')\n",
    "        obj = scio.loadmat(f, struct_as_record=False, squeeze_me=True)['obj']\n",
    "        assert (list(obj.trialPropertiesHash.keyNames) == \n",
    "                ['PoleInTime', 'PoleOutTime', 'CueTime', 'GoodTrials', 'PhotostimulationType'])\n",
    "        names = ['pole_in_time', 'pole_out_time', 'cue_time', 'good_trial', 'photostim_type'];\n",
    "        ttype = Trial.Type()\n",
    "        trial_source = (dict(zip(names, n)) for n in zip(*obj.trialPropertiesHash.value))\n",
    "        for i, trial in enumerate(trial_source, start=1):\n",
    "            self.insert1(dict(key, trial=i, start_time=obj.trialStartTimes[i-1], **trial))\n",
    "            ttype.insert(dict(key, trial=i, trial_type=g) \n",
    "                         for g in obj.trialTypeStr[obj.trialTypeMat[:,i-1]>0])"
   ]
  },
  {
   "cell_type": "code",
   "execution_count": 31,
   "metadata": {
    "collapsed": true,
    "scrolled": false
   },
   "outputs": [],
   "source": [
    "Trial().populate()"
   ]
  },
  {
   "cell_type": "code",
   "execution_count": 32,
   "metadata": {},
   "outputs": [],
   "source": [
    "f = Recording().fetch('recording_file')[3]\n",
    "obj = scio.loadmat(f, struct_as_record=False, squeeze_me=True)['obj']"
   ]
  },
  {
   "cell_type": "code",
   "execution_count": 33,
   "metadata": {
    "collapsed": true
   },
   "outputs": [],
   "source": [
    "@schema\n",
    "class Spikes(dj.Imported):\n",
    "    definition = \"\"\"\n",
    "    -> Unit\n",
    "    -> Trial\n",
    "    ---\n",
    "    spike_times : longblob    # spikes within trial\n",
    "    \"\"\"\n",
    "    \n",
    "    @property\n",
    "    def key_source(self):\n",
    "        return Recording() & Trial() & Unit()\n",
    "    \n",
    "    def _make_tuples(self, key):\n",
    "        print(key)\n",
    "        f = (Recording() & key).fetch1('recording_file')\n",
    "        obj = scio.loadmat(f, struct_as_record=False, squeeze_me=True)['obj']\n",
    "        for unit_name, value in zip(obj.eventSeriesHash.keyNames, obj.eventSeriesHash.value):\n",
    "            tup = dict(key, unit=int(unit_name[4:]))\n",
    "            self.insert(dict(tup, trial=trial, spike_times=value.eventTimes[value.eventTrials==trial]) \n",
    "                        for trial in set(value.eventTrials))"
   ]
  },
  {
   "cell_type": "code",
   "execution_count": 34,
   "metadata": {},
   "outputs": [
    {
     "name": "stdout",
     "output_type": "stream",
     "text": [
      "{'animal': 210863, 'session': 3}\n"
     ]
    },
    {
     "name": "stderr",
     "output_type": "stream",
     "text": [
      "(1452, 'Cannot add or update a child row: a foreign key constraint fails (`tutorial_alm1_ingest`.`_spikes`, CONSTRAINT `_spikes_ibfk_2` FOREIGN KEY (`animal`, `session`, `trial`) REFERENCES `_trial` (`animal`, `session`, `trial`) ON UPDATE CASCADE)')\n"
     ]
    },
    {
     "name": "stdout",
     "output_type": "stream",
     "text": [
      "{'animal': 218693, 'session': 1}\n"
     ]
    },
    {
     "name": "stderr",
     "output_type": "stream",
     "text": [
      "(1452, 'Cannot add or update a child row: a foreign key constraint fails (`tutorial_alm1_ingest`.`_spikes`, CONSTRAINT `_spikes_ibfk_2` FOREIGN KEY (`animal`, `session`, `trial`) REFERENCES `_trial` (`animal`, `session`, `trial`) ON UPDATE CASCADE)')\n"
     ]
    },
    {
     "name": "stdout",
     "output_type": "stream",
     "text": [
      "{'animal': 219031, 'session': 5}\n"
     ]
    },
    {
     "name": "stderr",
     "output_type": "stream",
     "text": [
      "(1452, 'Cannot add or update a child row: a foreign key constraint fails (`tutorial_alm1_ingest`.`_spikes`, CONSTRAINT `_spikes_ibfk_2` FOREIGN KEY (`animal`, `session`, `trial`) REFERENCES `_trial` (`animal`, `session`, `trial`) ON UPDATE CASCADE)')\n"
     ]
    },
    {
     "data": {
      "text/plain": [
       "[({'animal': 210863, 'session': 3},\n",
       "  pymysql.err.IntegrityError(1452,\n",
       "                             'Cannot add or update a child row: a foreign key constraint fails (`tutorial_alm1_ingest`.`_spikes`, CONSTRAINT `_spikes_ibfk_2` FOREIGN KEY (`animal`, `session`, `trial`) REFERENCES `_trial` (`animal`, `session`, `trial`) ON UPDATE CASCADE)')),\n",
       " ({'animal': 218693, 'session': 1},\n",
       "  pymysql.err.IntegrityError(1452,\n",
       "                             'Cannot add or update a child row: a foreign key constraint fails (`tutorial_alm1_ingest`.`_spikes`, CONSTRAINT `_spikes_ibfk_2` FOREIGN KEY (`animal`, `session`, `trial`) REFERENCES `_trial` (`animal`, `session`, `trial`) ON UPDATE CASCADE)')),\n",
       " ({'animal': 219031, 'session': 5},\n",
       "  pymysql.err.IntegrityError(1452,\n",
       "                             'Cannot add or update a child row: a foreign key constraint fails (`tutorial_alm1_ingest`.`_spikes`, CONSTRAINT `_spikes_ibfk_2` FOREIGN KEY (`animal`, `session`, `trial`) REFERENCES `_trial` (`animal`, `session`, `trial`) ON UPDATE CASCADE)'))]"
      ]
     },
     "execution_count": 34,
     "metadata": {},
     "output_type": "execute_result"
    }
   ],
   "source": [
    "Spikes().populate(suppress_errors=True, reserve_jobs=True)"
   ]
  },
  {
   "cell_type": "code",
   "execution_count": 35,
   "metadata": {},
   "outputs": [
    {
     "data": {
      "image/svg+xml": [
       "<svg height=\"327pt\" viewBox=\"0.00 0.00 540.00 327.00\" width=\"540pt\" xmlns=\"http://www.w3.org/2000/svg\" xmlns:xlink=\"http://www.w3.org/1999/xlink\">\n",
       "<g class=\"graph\" id=\"graph0\" transform=\"scale(1 1) rotate(0) translate(4 323)\">\n",
       "<polygon fill=\"white\" points=\"-4,4 -4,-323 536,-323 536,4 -4,4\" stroke=\"none\"/>\n",
       "<!-- Spikes -->\n",
       "<g class=\"node\" id=\"node1\"><title>Spikes</title>\n",
       "<ellipse cx=\"408.5\" cy=\"-17.5\" fill=\"#00007f\" fill-opacity=\"0.250980\" rx=\"33.2505\" ry=\"17.5\" stroke=\"#00007f\" stroke-opacity=\"0.250980\"/>\n",
       "<text fill=\"#00007f\" font-family=\"arial\" font-size=\"12.00\" text-anchor=\"middle\" x=\"408.5\" y=\"-14.4\">Spikes</text>\n",
       "</g>\n",
       "<!-- Extracellular.SiteLocation -->\n",
       "<g class=\"node\" id=\"node2\"><title>Extracellular.SiteLocation</title>\n",
       "<polygon fill=\"none\" points=\"127,-98 -7.10543e-15,-98 -7.10543e-15,-79 127,-79 127,-98\" stroke=\"none\"/>\n",
       "<text font-family=\"arial\" font-size=\"10.00\" text-anchor=\"middle\" x=\"63.5\" y=\"-86\">Extracellular.SiteLocation</text>\n",
       "</g>\n",
       "<!-- Extracellular -->\n",
       "<g class=\"node\" id=\"node3\"><title>Extracellular</title>\n",
       "<ellipse cx=\"63.5\" cy=\"-159.5\" fill=\"#00007f\" fill-opacity=\"0.250980\" rx=\"50\" ry=\"17.5\" stroke=\"#00007f\" stroke-opacity=\"0.250980\"/>\n",
       "<text fill=\"#00007f\" font-family=\"arial\" font-size=\"12.00\" text-anchor=\"middle\" x=\"63.5\" y=\"-156.4\">Extracellular</text>\n",
       "</g>\n",
       "<!-- Extracellular&#45;&gt;Extracellular.SiteLocation -->\n",
       "<g class=\"edge\" id=\"edge1\"><title>Extracellular-&gt;Extracellular.SiteLocation</title>\n",
       "<path d=\"M63.5,-141.797C63.5,-128.077 63.5,-109.185 63.5,-98.2652\" fill=\"none\" stroke=\"#000000\" stroke-opacity=\"0.250980\" stroke-width=\"0.75\"/>\n",
       "</g>\n",
       "<!-- SessionDirectory -->\n",
       "<g class=\"node\" id=\"node4\"><title>SessionDirectory</title>\n",
       "<polygon fill=\"#000000\" fill-opacity=\"0.125490\" points=\"302,-319 211,-319 211,-284 302,-284 302,-319\" stroke=\"none\"/>\n",
       "<text font-family=\"arial\" font-size=\"10.00\" text-anchor=\"middle\" x=\"256.5\" y=\"-299\">SessionDirectory</text>\n",
       "</g>\n",
       "<!-- Session -->\n",
       "<g class=\"node\" id=\"node15\"><title>Session</title>\n",
       "<ellipse cx=\"257.5\" cy=\"-230.5\" fill=\"#00007f\" fill-opacity=\"0.250980\" rx=\"36.7504\" ry=\"17.5\" stroke=\"#00007f\" stroke-opacity=\"0.250980\"/>\n",
       "<text fill=\"#00007f\" font-family=\"arial\" font-size=\"12.00\" text-anchor=\"middle\" x=\"257.5\" y=\"-227.4\">Session</text>\n",
       "</g>\n",
       "<!-- SessionDirectory&#45;&gt;Session -->\n",
       "<g class=\"edge\" id=\"edge2\"><title>SessionDirectory-&gt;Session</title>\n",
       "<path d=\"M256.742,-283.797C256.899,-272.949 257.103,-258.867 257.26,-248.049\" fill=\"none\" stroke=\"#000000\" stroke-dasharray=\"5,2\" stroke-opacity=\"0.250980\" stroke-width=\"0.75\"/>\n",
       "</g>\n",
       "<!-- ExperimentType -->\n",
       "<g class=\"node\" id=\"node5\"><title>ExperimentType</title>\n",
       "<ellipse cx=\"194.5\" cy=\"-159.5\" fill=\"#00007f\" fill-opacity=\"0.250980\" rx=\"63.2502\" ry=\"17.5\" stroke=\"#00007f\" stroke-opacity=\"0.250980\"/>\n",
       "<text fill=\"#00007f\" font-family=\"arial\" font-size=\"12.00\" text-anchor=\"middle\" x=\"194.5\" y=\"-156.4\">ExperimentType</text>\n",
       "</g>\n",
       "<!-- PhotoStim -->\n",
       "<g class=\"node\" id=\"node6\"><title>PhotoStim</title>\n",
       "<ellipse cx=\"320.5\" cy=\"-159.5\" fill=\"#00007f\" fill-opacity=\"0.250980\" rx=\"44.2504\" ry=\"17.5\" stroke=\"#00007f\" stroke-opacity=\"0.250980\"/>\n",
       "<text fill=\"#00007f\" font-family=\"arial\" font-size=\"12.00\" text-anchor=\"middle\" x=\"320.5\" y=\"-156.4\">PhotoStim</text>\n",
       "</g>\n",
       "<!-- PhotoStim.Location -->\n",
       "<g class=\"node\" id=\"node10\"><title>PhotoStim.Location</title>\n",
       "<polygon fill=\"none\" points=\"371.5,-98 269.5,-98 269.5,-79 371.5,-79 371.5,-98\" stroke=\"none\"/>\n",
       "<text font-family=\"arial\" font-size=\"10.00\" text-anchor=\"middle\" x=\"320.5\" y=\"-86\">PhotoStim.Location</text>\n",
       "</g>\n",
       "<!-- PhotoStim&#45;&gt;PhotoStim.Location -->\n",
       "<g class=\"edge\" id=\"edge3\"><title>PhotoStim-&gt;PhotoStim.Location</title>\n",
       "<path d=\"M320.5,-141.797C320.5,-128.077 320.5,-109.185 320.5,-98.2652\" fill=\"none\" stroke=\"#000000\" stroke-opacity=\"0.250980\" stroke-width=\"0.75\"/>\n",
       "</g>\n",
       "<!-- Trial.Type -->\n",
       "<g class=\"node\" id=\"node7\"><title>Trial.Type</title>\n",
       "<polygon fill=\"none\" points=\"517.5,-27 459.5,-27 459.5,-8 517.5,-8 517.5,-27\" stroke=\"none\"/>\n",
       "<text font-family=\"arial\" font-size=\"10.00\" text-anchor=\"middle\" x=\"488.5\" y=\"-15\">Trial.Type</text>\n",
       "</g>\n",
       "<!-- Recording -->\n",
       "<g class=\"node\" id=\"node8\"><title>Recording</title>\n",
       "<ellipse cx=\"418.5\" cy=\"-159.5\" fill=\"#ff0000\" fill-opacity=\"0.125490\" rx=\"13\" ry=\"13\" stroke=\"#ff0000\" stroke-opacity=\"0.125490\"/>\n",
       "<text fill=\"#7f0000\" font-family=\"arial\" font-size=\"12.00\" text-anchor=\"middle\" x=\"418.5\" y=\"-156.4\">Recording</text>\n",
       "</g>\n",
       "<!-- Unit -->\n",
       "<g class=\"node\" id=\"node13\"><title>Unit</title>\n",
       "<ellipse cx=\"415.5\" cy=\"-88.5\" fill=\"#00007f\" fill-opacity=\"0.250980\" rx=\"23.2507\" ry=\"17.5\" stroke=\"#00007f\" stroke-opacity=\"0.250980\"/>\n",
       "<text fill=\"#00007f\" font-family=\"arial\" font-size=\"12.00\" text-anchor=\"middle\" x=\"415.5\" y=\"-85.4\">Unit</text>\n",
       "</g>\n",
       "<!-- Recording&#45;&gt;Unit -->\n",
       "<g class=\"edge\" id=\"edge4\"><title>Recording-&gt;Unit</title>\n",
       "<path d=\"M417.977,-146.481C417.491,-135.284 416.76,-118.491 416.219,-106.033\" fill=\"none\" stroke=\"#000000\" stroke-opacity=\"0.250980\" stroke-width=\"0.75\"/>\n",
       "</g>\n",
       "<!-- Trial -->\n",
       "<g class=\"node\" id=\"node14\"><title>Trial</title>\n",
       "<ellipse cx=\"488.5\" cy=\"-88.5\" fill=\"#00007f\" fill-opacity=\"0.250980\" rx=\"23.5026\" ry=\"17.5\" stroke=\"#00007f\" stroke-opacity=\"0.250980\"/>\n",
       "<text fill=\"#00007f\" font-family=\"arial\" font-size=\"12.00\" text-anchor=\"middle\" x=\"488.5\" y=\"-85.4\">Trial</text>\n",
       "</g>\n",
       "<!-- Recording&#45;&gt;Trial -->\n",
       "<g class=\"edge\" id=\"edge5\"><title>Recording-&gt;Trial</title>\n",
       "<path d=\"M427.366,-149.761C439.359,-137.939 460.864,-116.741 474.906,-102.9\" fill=\"none\" stroke=\"#000000\" stroke-opacity=\"0.250980\" stroke-width=\"0.75\"/>\n",
       "</g>\n",
       "<!-- Animal -->\n",
       "<g class=\"node\" id=\"node9\"><title>Animal</title>\n",
       "<ellipse cx=\"353.5\" cy=\"-301.5\" fill=\"#00007f\" fill-opacity=\"0.250980\" rx=\"33.2505\" ry=\"17.5\" stroke=\"#00007f\" stroke-opacity=\"0.250980\"/>\n",
       "<text fill=\"#00007f\" font-family=\"arial\" font-size=\"12.00\" text-anchor=\"middle\" x=\"353.5\" y=\"-298.4\">Animal</text>\n",
       "</g>\n",
       "<!-- Animal.Strain -->\n",
       "<g class=\"node\" id=\"node11\"><title>Animal.Strain</title>\n",
       "<polygon fill=\"none\" points=\"389,-240 314,-240 314,-221 389,-221 389,-240\" stroke=\"none\"/>\n",
       "<text font-family=\"arial\" font-size=\"10.00\" text-anchor=\"middle\" x=\"351.5\" y=\"-228\">Animal.Strain</text>\n",
       "</g>\n",
       "<!-- Animal&#45;&gt;Animal.Strain -->\n",
       "<g class=\"edge\" id=\"edge8\"><title>Animal-&gt;Animal.Strain</title>\n",
       "<path d=\"M353.016,-283.797C352.618,-270.077 352.071,-251.185 351.754,-240.265\" fill=\"none\" stroke=\"#000000\" stroke-opacity=\"0.250980\" stroke-width=\"0.75\"/>\n",
       "</g>\n",
       "<!-- Animal.GeneModification -->\n",
       "<g class=\"node\" id=\"node12\"><title>Animal.GeneModification</title>\n",
       "<polygon fill=\"none\" points=\"532,-240 407,-240 407,-221 532,-221 532,-240\" stroke=\"none\"/>\n",
       "<text font-family=\"arial\" font-size=\"10.00\" text-anchor=\"middle\" x=\"469.5\" y=\"-228\">Animal.GeneModification</text>\n",
       "</g>\n",
       "<!-- Animal&#45;&gt;Animal.GeneModification -->\n",
       "<g class=\"edge\" id=\"edge6\"><title>Animal-&gt;Animal.GeneModification</title>\n",
       "<path d=\"M374.776,-287.844C398.061,-273.994 434.76,-252.164 454.963,-240.147\" fill=\"none\" stroke=\"#000000\" stroke-opacity=\"0.250980\" stroke-width=\"0.75\"/>\n",
       "</g>\n",
       "<!-- Animal&#45;&gt;Session -->\n",
       "<g class=\"edge\" id=\"edge7\"><title>Animal-&gt;Session</title>\n",
       "<path d=\"M334.533,-286.868C317.922,-274.928 293.879,-257.648 277.086,-245.578\" fill=\"none\" stroke=\"#000000\" stroke-opacity=\"0.250980\" stroke-width=\"0.75\"/>\n",
       "</g>\n",
       "<!-- Unit&#45;&gt;Spikes -->\n",
       "<g class=\"edge\" id=\"edge9\"><title>Unit-&gt;Spikes</title>\n",
       "<path d=\"M413.805,-70.797C412.705,-59.9485 411.276,-45.8669 410.179,-35.0492\" fill=\"none\" stroke=\"#000000\" stroke-opacity=\"0.250980\" stroke-width=\"0.75\"/>\n",
       "</g>\n",
       "<!-- Trial&#45;&gt;Spikes -->\n",
       "<g class=\"edge\" id=\"edge10\"><title>Trial-&gt;Spikes</title>\n",
       "<path d=\"M473.453,-74.5216C459.693,-62.654 439.375,-45.1294 425.137,-32.8492\" fill=\"none\" stroke=\"#000000\" stroke-opacity=\"0.250980\" stroke-width=\"0.75\"/>\n",
       "</g>\n",
       "<!-- Trial&#45;&gt;Trial.Type -->\n",
       "<g class=\"edge\" id=\"edge11\"><title>Trial-&gt;Trial.Type</title>\n",
       "<path d=\"M488.5,-70.797C488.5,-57.0768 488.5,-38.1854 488.5,-27.2652\" fill=\"none\" stroke=\"#000000\" stroke-opacity=\"0.250980\" stroke-width=\"0.75\"/>\n",
       "</g>\n",
       "<!-- Session&#45;&gt;Extracellular -->\n",
       "<g class=\"edge\" id=\"edge12\"><title>Session-&gt;Extracellular</title>\n",
       "<path d=\"M228.875,-219.319C193.777,-206.836 134.379,-185.709 97.1364,-172.463\" fill=\"none\" stroke=\"#000000\" stroke-opacity=\"0.250980\" stroke-width=\"2\"/>\n",
       "</g>\n",
       "<!-- Session&#45;&gt;ExperimentType -->\n",
       "<g class=\"edge\" id=\"edge15\"><title>Session-&gt;ExperimentType</title>\n",
       "<path d=\"M243.518,-214.187C233.368,-203.07 219.66,-188.056 209.32,-176.732\" fill=\"none\" stroke=\"#000000\" stroke-opacity=\"0.250980\" stroke-width=\"0.75\"/>\n",
       "</g>\n",
       "<!-- Session&#45;&gt;PhotoStim -->\n",
       "<g class=\"edge\" id=\"edge14\"><title>Session-&gt;PhotoStim</title>\n",
       "<path d=\"M271.482,-214.187C281.777,-202.911 295.733,-187.626 306.121,-176.249\" fill=\"none\" stroke=\"#000000\" stroke-opacity=\"0.250980\" stroke-width=\"2\"/>\n",
       "</g>\n",
       "<!-- Session&#45;&gt;Recording -->\n",
       "<g class=\"edge\" id=\"edge13\"><title>Session-&gt;Recording</title>\n",
       "<path d=\"M284.086,-218.106C319.633,-202.872 381.137,-176.513 406.763,-165.53\" fill=\"none\" stroke=\"#000000\" stroke-opacity=\"0.250980\" stroke-width=\"2\"/>\n",
       "</g>\n",
       "</g>\n",
       "</svg>"
      ],
      "text/plain": [
       "<datajoint.erd.ERD at 0x7fa14fe5beb8>"
      ]
     },
     "execution_count": 35,
     "metadata": {},
     "output_type": "execute_result"
    }
   ],
   "source": [
    "dj.ERD(schema)"
   ]
  },
  {
   "cell_type": "markdown",
   "metadata": {},
   "source": [
    "# Plot results"
   ]
  },
  {
   "cell_type": "code",
   "execution_count": 36,
   "metadata": {
    "collapsed": true
   },
   "outputs": [],
   "source": [
    "# pick a dataset\n",
    "keys = list((Recording() & Spikes()).fetch.keys())\n",
    "key = keys[30]"
   ]
  },
  {
   "cell_type": "code",
   "execution_count": 37,
   "metadata": {},
   "outputs": [
    {
     "name": "stdout",
     "output_type": "stream",
     "text": [
      "Populating the interactive namespace from numpy and matplotlib\n",
      "OrderedDict([('animal', 218457), ('session', 6)])\n"
     ]
    },
    {
     "name": "stderr",
     "output_type": "stream",
     "text": [
      "/usr/local/lib/python3.5/dist-packages/IPython/core/magics/pylab.py:160: UserWarning: pylab import has clobbered these variables: ['f']\n",
      "`%matplotlib` prevents importing * from pylab and numpy\n",
      "  \"\\n`%matplotlib` prevents importing * from pylab and numpy\"\n"
     ]
    },
    {
     "name": "stdout",
     "output_type": "stream",
     "text": [
      "Hits: left 49 right 39 Units:  20\n",
      "...................."
     ]
    },
    {
     "data": {
      "image/png": "[encoded data removed]",
      "text/plain": [
       "<matplotlib.figure.Figure at 0x7fa14fd27240>"
      ]
     },
     "metadata": {},
     "output_type": "display_data"
    }
   ],
   "source": [
    "%pylab inline\n",
    "# plot PSTHs of left (blue) vs right (red) trials\n",
    "print(key)\n",
    "good_trials = (Trial() & key & 'good_trial') - (Trial.Type() & 'trial_type in (\"LickEarly\", \"StimTrials\")')\n",
    "left_trials = good_trials & (Trial.Type() & 'trial_type in (\"HitL\")')\n",
    "right_trials = good_trials & (Trial.Type() & 'trial_type in (\"HitR\")')\n",
    "n_units = len(Unit() & key)\n",
    "print('Hits: left', len(left_trials), 'right', len(right_trials), 'Units: ', n_units)\n",
    "\n",
    "ncols = 4\n",
    "nrows = (n_units + ncols - 1)//ncols\n",
    "rcParams['figure.figsize'] = (16, 10)\n",
    "\n",
    "_, ax = plt.subplots(nrows, ncols)\n",
    "ax  = ax.flatten()\n",
    "bins = np.linspace(0,6,6)\n",
    "x = (bins[:-1]+bins[1:])/2\n",
    "for i, unit_key in enumerate((Unit() & key).fetch.keys()):\n",
    "    print(end='.')\n",
    "    left = (Trial()*Spikes() & unit_key & left_trials).fetch('start_time', 'spike_times')\n",
    "    if left[0].size:\n",
    "        left = np.concatenate([spikes-start for start, spikes in zip(*left)])\n",
    "        ax[i].hist(left, bins, color='blue', alpha=0.5)\n",
    "    right = (Trial()*Spikes() & unit_key & right_trials).fetch('start_time', 'spike_times')\n",
    "    if right[0].size:\n",
    "        right = np.concatenate([spikes-start for start, spikes in zip(*right)])\n",
    "        ax[i].hist(right, bins, color='red', alpha=0.5)\n",
    "    ax[i].set_title('Unit {unit}'.format(**unit_key))\n",
    "\n",
    "# clear unused axes\n",
    "for i in range(n_units,ncols*nrows):\n",
    "    ax[i].axis('off')\n"
   ]
  },
  {
   "cell_type": "code",
   "execution_count": null,
   "metadata": {
    "collapsed": true
   },
   "outputs": [],
   "source": []
  }
 ],
 "metadata": {
  "kernelspec": {
   "display_name": "Python 3",
   "language": "python",
   "name": "python3"
  },
  "language_info": {
   "codemirror_mode": {
    "name": "ipython",
    "version": 3
   },
   "file_extension": ".py",
   "mimetype": "text/x-python",
   "name": "python",
   "nbconvert_exporter": "python",
   "pygments_lexer": "ipython3",
   "version": "3.5.2"
  }
 },
 "nbformat": 4,
 "nbformat_minor": 2
}
